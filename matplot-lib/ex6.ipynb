{
 "cells": [
  {
   "cell_type": "code",
   "execution_count": 1,
   "metadata": {},
   "outputs": [],
   "source": [
    "import numpy as np\n",
    "import matplotlib.pyplot as plt\n",
    "\n",
    "%matplotlib inline"
   ]
  },
  {
   "cell_type": "code",
   "execution_count": 43,
   "metadata": {},
   "outputs": [
    {
     "name": "stdout",
     "output_type": "stream",
     "text": [
      "size 50\n"
     ]
    }
   ],
   "source": [
    "rng = np.arange(50)\n",
    "print(\"size {}\".format(rng.size))\n",
    "rnd = np.random.randint(0, 10, size=(3, rng.size))\n",
    "yrs = 1950 + rng\n",
    "#rng + rnd\n"
   ]
  },
  {
   "cell_type": "code",
   "execution_count": 46,
   "metadata": {},
   "outputs": [
    {
     "data": {
      "image/png": "[encoded data removed]",
      "text/plain": [
       "<Figure size 360x216 with 1 Axes>"
      ]
     },
     "metadata": {},
     "output_type": "display_data"
    }
   ],
   "source": [
    "fig, ax = plt.subplots(figsize=(5, 3))\n",
    "ax.stackplot(yrs, rng + rnd, labels=['e1', 'e2', 'e3'])\n",
    "ax.set_title('Combined debt growth over time.')\n",
    "ax.legend(loc='upper left')\n",
    "ax.set_ylabel('Total Debt')\n",
    "ax.set_xlim(xmin=yrs[0], xmax=yrs[-1])\n",
    "fig.tight_layout()"
   ]
  },
  {
   "cell_type": "code",
   "execution_count": 53,
   "metadata": {},
   "outputs": [
    {
     "data": {
      "text/plain": [
       "array([[10, 12],\n",
       "       [ 2,  4],\n",
       "       [ 7,  9],\n",
       "       [ 6,  9],\n",
       "       [ 9, 13],\n",
       "       [10, 14],\n",
       "       [ 2,  4],\n",
       "       [ 8, 11],\n",
       "       [ 6,  9],\n",
       "       [ 8, 12],\n",
       "       [ 2,  6],\n",
       "       [10, 11],\n",
       "       [ 8, 10],\n",
       "       [10, 13],\n",
       "       [ 1,  5],\n",
       "       [ 6,  9],\n",
       "       [ 9, 13],\n",
       "       [ 7, 11],\n",
       "       [ 8, 11],\n",
       "       [ 2,  4],\n",
       "       [ 8, 12],\n",
       "       [ 3,  6],\n",
       "       [ 2,  4],\n",
       "       [ 9, 10],\n",
       "       [ 8, 11],\n",
       "       [ 8, 10],\n",
       "       [ 1,  5],\n",
       "       [ 5,  6],\n",
       "       [ 6,  9],\n",
       "       [10, 13],\n",
       "       [ 6, 10],\n",
       "       [ 4,  5],\n",
       "       [10, 14],\n",
       "       [ 8, 10],\n",
       "       [ 3,  6],\n",
       "       [ 6,  8],\n",
       "       [ 1,  5],\n",
       "       [10, 13],\n",
       "       [ 3,  6],\n",
       "       [ 5,  9],\n",
       "       [ 9, 12],\n",
       "       [ 4,  5],\n",
       "       [ 5,  6],\n",
       "       [ 5,  6],\n",
       "       [ 6, 10],\n",
       "       [ 8, 12],\n",
       "       [ 9, 12],\n",
       "       [ 9, 11],\n",
       "       [ 1,  2],\n",
       "       [ 4,  8]])"
      ]
     },
     "execution_count": 53,
     "metadata": {},
     "output_type": "execute_result"
    }
   ],
   "source": [
    "x = np.random.randint(low=1, high=11, size=50)\n",
    "y = x + np.random.randint(1, 5, size=x.size)\n",
    "\n",
    "data = np.column_stack((x, y))\n",
    "\n",
    "data"
   ]
  }
 ],
 "metadata": {
  "kernelspec": {
   "display_name": "Python 3",
   "language": "python",
   "name": "python3"
  },
  "language_info": {
   "codemirror_mode": {
    "name": "ipython",
    "version": 3
   },
   "file_extension": ".py",
   "mimetype": "text/x-python",
   "name": "python",
   "nbconvert_exporter": "python",
   "pygments_lexer": "ipython3",
   "version": "3.7.0"
  }
 },
 "nbformat": 4,
 "nbformat_minor": 2
}
